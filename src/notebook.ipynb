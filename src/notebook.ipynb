{
  "cells": [
    {
      "cell_type": "code",
      "execution_count": 7,
      "metadata": {
        "id": "vy6dy3ZdvLyH"
      },
      "outputs": [],
      "source": [
        "!pip install tf-agents[reverb]"
      ]
    },
    {
      "cell_type": "code",
      "source": [
        "from __future__ import absolute_import, division, print_function\n",
        "\n",
        "import keras\n",
        "import numpy as np\n",
        "import tensorflow as tf\n",
        "import reverb\n",
        "import random\n",
        "\n",
        "from tf_agents.agents.dqn import dqn_agent\n",
        "from tf_agents.drivers.py_driver import PyDriver\n",
        "from tf_agents.environments import py_environment\n",
        "from tf_agents.environments import tf_py_environment\n",
        "from tf_agents.networks import sequential\n",
        "from tf_agents.trajectories import time_step as ts\n",
        "from tf_agents.policies.py_tf_eager_policy import PyTFEagerPolicy\n",
        "from tf_agents.specs import tensor_spec\n",
        "from tf_agents.specs.array_spec import BoundedArraySpec\n",
        "from tf_agents.utils import common"
      ],
      "metadata": {
        "id": "BJ66j3Zcw8gl"
      },
      "execution_count": 11,
      "outputs": []
    },
    {
      "cell_type": "code",
      "source": [
        "fully_connected_layers: tuple[int, int] = (100, 50)\n",
        "num_iterations: int = 20_000\n",
        "\n",
        "initial_collect_steps: int = 100\n",
        "collect_steps_per_iteration: int = 1\n",
        "\n",
        "max_buffer_size: int = 10_000\n",
        "batch_size: int = 64\n",
        "learning_rate: float = 1e-3\n",
        "log_interval: int = 200\n",
        "\n",
        "num_eval_episodes: int = 10\n",
        "eval_interval: int = 1_000\n",
        "\n",
        "lane_length: int = 5\n",
        "spawn_rate: float = 0.4\n",
        "total_ticks: int = 50"
      ],
      "metadata": {
        "id": "aS632Nipx3j_"
      },
      "execution_count": 12,
      "outputs": []
    },
    {
      "cell_type": "code",
      "source": [
        "class FastTrafficEnv(py_environment.PyEnvironment):\n",
        "    def __init__(self):\n",
        "        super().__init__()\n",
        "        self._action_spec = BoundedArraySpec(\n",
        "            shape=(), dtype=np.int32, minimum=0, maximum=1, name=\"action\"\n",
        "        )\n",
        "        self._observation_spec = BoundedArraySpec(\n",
        "            shape=(2, lane_length),\n",
        "            dtype=np.int32,\n",
        "            minimum=0,\n",
        "            maximum=2,\n",
        "            name=\"observation\",\n",
        "        )\n",
        "        self._init_game()\n",
        "\n",
        "    def action_spec(self):\n",
        "        return self._action_spec\n",
        "\n",
        "    def observation_spec(self):\n",
        "        return self._observation_spec\n",
        "\n",
        "    def _reset(self):\n",
        "        self._init_game()\n",
        "        return ts.restart(self.parse_observation())\n",
        "\n",
        "    def _step(self, action):\n",
        "        return self.next_frame(action)\n",
        "\n",
        "    # \"\"\" Inner Game Mechanics \"\"\"\n",
        "\n",
        "    def _init_game(self):\n",
        "        self.cars = np.zeros(\n",
        "            [2, lane_length],\n",
        "            dtype=np.int32,\n",
        "        )\n",
        "        self.player = np.int32(random.choice([0, 1]))\n",
        "        self.game_ended = False\n",
        "        self.ticks = 0\n",
        "\n",
        "    def parse_observation(self) -> np.ndarray[np.ndarray[np.int32]]:\n",
        "        observation = self.cars.copy()\n",
        "        observation[self.player, 0] = 2\n",
        "        return observation\n",
        "\n",
        "    def try_spawn_car(self, chance=None):\n",
        "        if chance is None:\n",
        "            chance = random.random()\n",
        "\n",
        "        if chance > spawn_rate:\n",
        "            return None\n",
        "\n",
        "        lane = random.choice([0, 1])\n",
        "        self.cars[lane][-1] = 1\n",
        "\n",
        "    def move_cars(self):\n",
        "        self.cars[:, 0] = 0\n",
        "        self.cars = np.roll(self.cars, shift=-1)\n",
        "\n",
        "    def check_collision(self) -> bool:\n",
        "        return bool(self.cars[self.player][0])\n",
        "\n",
        "    def apply_action(self, action):\n",
        "        if action == 1:\n",
        "            return None\n",
        "\n",
        "        self.player = int(not bool(self.player))\n",
        "\n",
        "    def next_frame(self, action):\n",
        "        if self.ticks >= total_ticks or self.game_ended:\n",
        "            return self.reset()\n",
        "\n",
        "        self.apply_action(action=action)\n",
        "        if self.check_collision():\n",
        "            self.game_ended = True\n",
        "            return ts.termination(\n",
        "                observation=self.parse_observation(), reward=self.ticks\n",
        "            )\n",
        "\n",
        "        self.move_cars()\n",
        "        self.try_spawn_car()\n",
        "        self.ticks += 1\n",
        "\n",
        "        return ts.transition(\n",
        "            observation=self.parse_observation(),\n",
        "            reward=self.ticks,\n",
        "        )\n"
      ],
      "metadata": {
        "id": "tVbzjysGyXTi"
      },
      "execution_count": 13,
      "outputs": []
    }
  ],
  "metadata": {
    "kernelspec": {
      "display_name": "venv",
      "language": "python",
      "name": "python3"
    },
    "language_info": {
      "codemirror_mode": {
        "name": "ipython",
        "version": 3
      },
      "file_extension": ".py",
      "mimetype": "text/x-python",
      "name": "python",
      "nbconvert_exporter": "python",
      "pygments_lexer": "ipython3",
      "version": "3.11.5"
    },
    "orig_nbformat": 4,
    "colab": {
      "provenance": []
    }
  },
  "nbformat": 4,
  "nbformat_minor": 0
}