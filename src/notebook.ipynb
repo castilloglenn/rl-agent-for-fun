{
  "cells": [
    {
      "cell_type": "code",
      "execution_count": 7,
      "metadata": {
        "id": "vy6dy3ZdvLyH"
      },
      "outputs": [],
      "source": [
        "!pip install tf-agents[reverb]"
      ]
    },
    {
      "cell_type": "code",
      "source": [
        "from __future__ import absolute_import, division, print_function\n",
        "\n",
        "import keras\n",
        "import numpy as np\n",
        "import tensorflow as tf\n",
        "import reverb\n",
        "import random\n",
        "\n",
        "from tf_agents.agents.dqn import dqn_agent\n",
        "from tf_agents.drivers.py_driver import PyDriver\n",
        "from tf_agents.environments import py_environment\n",
        "from tf_agents.environments import tf_py_environment\n",
        "from tf_agents.networks import sequential\n",
        "from tf_agents.trajectories import time_step as ts\n",
        "from tf_agents.policies.py_tf_eager_policy import PyTFEagerPolicy\n",
        "from tf_agents.specs import tensor_spec\n",
        "from tf_agents.specs.array_spec import BoundedArraySpec\n",
        "from tf_agents.utils import common"
      ],
      "metadata": {
        "id": "BJ66j3Zcw8gl"
      },
      "execution_count": 11,
      "outputs": []
    },
    {
      "cell_type": "code",
      "source": [
        "fully_connected_layers: tuple[int, int] = (100, 50)\n",
        "num_iterations: int = 20_000\n",
        "\n",
        "initial_collect_steps: int = 100\n",
        "collect_steps_per_iteration: int = 1\n",
        "\n",
        "max_buffer_size: int = 10_000\n",
        "batch_size: int = 64\n",
        "learning_rate: float = 1e-3\n",
        "log_interval: int = 200\n",
        "\n",
        "num_eval_episodes: int = 10\n",
        "eval_interval: int = 1_000\n",
        "\n",
        "lane_length: int = 5\n",
        "spawn_rate: float = 0.4\n",
        "total_ticks: int = 50"
      ],
      "metadata": {
        "id": "aS632Nipx3j_"
      },
      "execution_count": 12,
      "outputs": []
    }
  ],
  "metadata": {
    "kernelspec": {
      "display_name": "venv",
      "language": "python",
      "name": "python3"
    },
    "language_info": {
      "codemirror_mode": {
        "name": "ipython",
        "version": 3
      },
      "file_extension": ".py",
      "mimetype": "text/x-python",
      "name": "python",
      "nbconvert_exporter": "python",
      "pygments_lexer": "ipython3",
      "version": "3.11.5"
    },
    "orig_nbformat": 4,
    "colab": {
      "provenance": []
    }
  },
  "nbformat": 4,
  "nbformat_minor": 0
}